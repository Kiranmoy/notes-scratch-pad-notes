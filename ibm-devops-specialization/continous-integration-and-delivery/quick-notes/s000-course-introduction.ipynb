{
 "cells": [
  {
   "cell_type": "markdown",
   "id": "d8f1b5fd-31b8-4943-92b5-4ec27a24e9b6",
   "metadata": {},
   "source": [
    "# Introduction to CI/CD"
   ]
  },
  {
   "cell_type": "markdown",
   "id": "99f677c8-05a7-46e6-b961-241df3935af4",
   "metadata": {},
   "source": [
    "* The goal should be to **deploy at the speed of need**.\n",
    "* You should be able to **deploy as often as it makes sense** for your business.\n",
    "* But that deployment needs to be **reliable** and **repeatable**, and that requires automation.\n",
    "* How to **deploy faster and with greater reliability?**\n",
    "\n",
    "**Mean Lead Time:**\n",
    "* **CI/CD** is all about `mean lead time`, which is how long does it take to go from **idea to production**.\n",
    "* This `mean lead time` is gated by **release frequency**, which is how often can you deliver a change."
   ]
  },
  {
   "cell_type": "markdown",
   "id": "9e408953-1652-4182-86a2-c1610b3ad44d",
   "metadata": {},
   "source": [
    "# Continuous Integration or CI"
   ]
  },
  {
   "attachments": {},
   "cell_type": "markdown",
   "id": "7a551896-ffd4-4dba-975b-a699294fd4da",
   "metadata": {},
   "source": [
    "* That's the process of `continuously integrating every developer change into the main branch` after `a set of tests have passed`, resulting in `potentially deployable code`.\n",
    "* You'll learn the benefits of **social coding**.\n",
    "* How to use the **Git feature branch workflow**.\n",
    "* You'll get an overview of some popular CI tools and then dive deep into how to use **GitHub actions** to create your CI pipeline."
   ]
  },
  {
   "cell_type": "markdown",
   "id": "0cfa53b9-52cd-49af-814c-8340eac1771e",
   "metadata": {},
   "source": [
    "# Continuous Delivery or CD"
   ]
  },
  {
   "attachments": {},
   "cell_type": "markdown",
   "id": "2d79c5e7-15f9-4026-a4dc-c3a6fc09636f",
   "metadata": {},
   "source": [
    "* CD is a software development discipline designed to ensure that code can be rapidly and safely deployed to production at any time by delivering every change to a production-like environment.\n",
    "* That means that your **`main` branch should always be ready for deployment**.\n",
    "* You'll learn about the **benefits of CD** and get an **overview of some popular CD tools**.\n",
    "* Then we'll dive deep into **how to build a pipeline task by task using a technology called `Tekton`**.\n",
    "* **With `Tekton`, you can automate your deployments right inside your Kubernetes cluster**.\n",
    "* You'll deploy your pipeline to OpenShift."
   ]
  },
  {
   "cell_type": "markdown",
   "id": "bdd27a85-dab5-4b57-bc8a-9d6137b1f8da",
   "metadata": {},
   "source": [
    "# DevOps and GitOps with Openshift"
   ]
  },
  {
   "cell_type": "markdown",
   "id": "37313310-d635-423b-bf4d-cc05e8159b72",
   "metadata": {},
   "source": [
    "* You will learn about and utilize the **OpenShift Pipeline feature**.\n",
    "* This feature offers an intuitive user interface for defining and managing your CI/CD workflows from within the OpenShift developer perspective.\n",
    "* You'll learn how to use this feature to write real-world pipelines, all without needing to write a single line of code.\n",
    "* OpenShift pipeline simplifies this process by automatically generating the `Tekton` code in the background while you're creating tasks and pipelines using the provided canvas."
   ]
  },
  {
   "cell_type": "markdown",
   "id": "6a770362-6630-4cfb-a93b-3de648cd67ed",
   "metadata": {},
   "source": [
    "Finally, you'll put your knowledge to practice in the lab by reconstructing a pipeline that you crafted earlier using Tekton by just using the OpenShift pipeline user interface."
   ]
  },
  {
   "cell_type": "markdown",
   "id": "6514e51b-7380-439b-9bf5-d12df6b3a19b",
   "metadata": {},
   "source": [
    "# Module 1: Introduction to CI/CD. "
   ]
  },
  {
   "cell_type": "markdown",
   "id": "0da37402-9d98-4146-ad64-b8fd9ce5bed6",
   "metadata": {},
   "source": [
    "Welcome to **Module 1**: Introduction to CI/CD. \n",
    "\n",
    "In this module:\n",
    "* You will get a broad introduction to Continuous Integration and Continuous Delivery, commonly known as CI/CD.\n",
    "* CI/CD is an automated software development and delivery approach that ensures repeatability and reliability.\n",
    "* You will explore the concepts of CI and CD, understanding their advantages when implemented correctly in your DevOps pipeline.\n",
    "* You will also study various popular CI/CD tools, recognizing the importance of eliminating manual procedures and acknowledging that different teams within an organization may use other CI/CD tools.\n",
    "* You will gain insights into Infrastructure as Code (IaC), which involves utilizing code to automate the provisioning and management of infrastructure.\n",
    "* IaC serves as a fundamental concept for implementing automation.\n",
    "* There are no labs in this first module.\n",
    "* The goal is to understand what CI/CD is before we dive deep into each topic individually."
   ]
  },
  {
   "cell_type": "markdown",
   "id": "ef9e464d-c7b7-4790-8893-f7173415460f",
   "metadata": {},
   "source": [
    "## Learning Objectives"
   ]
  },
  {
   "cell_type": "markdown",
   "id": "ce401bf2-1b82-403e-88b8-bc5b84e23cc0",
   "metadata": {},
   "source": [
    "* Provide an overview of the concept of Continuous Integration (CI) and Continuous Delivery (CD)\n",
    "* Identify the key differences between Continuous Integration and Continuous Delivery\n",
    "* Identify some common tools for CI/CD\n",
    "* Provide an overview of Infrastructure as Code (IaC) and its associated benefits\n",
    "* List the various tools of IaC and their description"
   ]
  },
  {
   "cell_type": "markdown",
   "id": "c6ff8dcc-2b8d-4df9-b580-6210e6ded195",
   "metadata": {},
   "source": [
    "# Module 2: Continuous Integration"
   ]
  },
  {
   "cell_type": "markdown",
   "id": "0440016a-d16b-496a-9dd5-51e50ca84557",
   "metadata": {},
   "source": [
    "Welcome to **Module 2**: Continuous Integration.\n",
    "\n",
    "In this module:\n",
    "* You will have a comprehensive orientation to Continuous Integration (CI). \n",
    "* You will gain knowledge of CI's features and the benefits it brings to the world of DevOps. \n",
    "* We will begin by exploring social coding, a widely adopted practice within the open-source community. \n",
    "* Many companies are now adopting this practice for inner source purposes, to capitalize on its efficiency levels and other benefits. \n",
    "* You’ll learn about the Git version control system:\n",
    "    * How to practice the Git Feature Branch Workflow.\n",
    "    * The essential commands required to manage it. \n",
    "    * The workflow will ensure that you follow good DevOps practices and work in small batches.\n",
    "    * So your development work never strays too far from the main codebase. \n",
    "    * This workflow offers several other key features, along with ensuring adherence to good DevOps practices and maintaining close alignment with the main codebase. \n",
    "* We will also explore various popular Continuous Integration (CI) tools, such as Jenkins, CircleCI, and Travis CI, and study their comparison. \n",
    "    * The tool that you will dive deep into is GitHub Actions. \n",
    "    * It’s a relatively new tool that is rapidly gaining popularity and is available on every GitHub repository. \n",
    "    * We’ll go into great detail on the events, runners, jobs, steps, and actions that are the essential components of the GitHub Actions workflow.\n",
    "* Through hands-on labs, you can apply your knowledge by forking a repository and establishing your own GitHub Actions workflow. \n",
    "* This workflow will involve tasks such as, code examination, quality checks, unit testing, and automatic reporting of code coverage. \n"
   ]
  },
  {
   "cell_type": "markdown",
   "id": "6cc2207c-c91b-4187-880b-3f8fb79df7e2",
   "metadata": {},
   "source": [
    "## Learning Objectives"
   ]
  },
  {
   "cell_type": "markdown",
   "id": "92c61796-3823-4c05-8c4e-86c67e6f863a",
   "metadata": {},
   "source": [
    "* List the main features of CI\n",
    "* Differentiate between CI-based and traditional development\n",
    "* Provide an overview of source code management\n",
    "* Explain social coding steps in practice\n",
    "* Provide an overview of Git\n",
    "* Understand how developers create a new feature while operating within Git branches\n",
    "* Explain the pull request workflow\n",
    "* Outline the steps to use the Jenkins, CircleCI, Travis CI tool"
   ]
  },
  {
   "cell_type": "markdown",
   "id": "aa2299d9-11ab-404b-8aa1-d5367448eb1e",
   "metadata": {},
   "source": [
    "# Module 3: Continous Delivery (CD)"
   ]
  },
  {
   "cell_type": "markdown",
   "id": "40a480bf-06a5-4963-a440-de47bbf26514",
   "metadata": {},
   "source": [
    "* The module begins by introducing Tekton and pipelines, establishing a foundation for comprehending their roles in the CI/CD process. \n",
    "* You will also learn the significance of triggers in Tekton, enabling pipelines to execute automatically based on specific events or conditions.\n",
    "* Through a hands-on lab, you will create a Tekton trigger to initiate pipeline runs in response to external events. \n",
    "* You will gain proficiency in effectively utilizing the Tekton Catalog and incorporating its resources into pipelines. \n",
    "* The module guides you in creating custom tasks for code linting, unit testing, and other quality assurance processes. \n",
    "* Additionally, you will learn how to build container images in preparation for deployment to Kubernetes. \n",
    "* Through hands-on labs, you will develop practical skills to effectively implement Tekton pipelines and automate their CI/CD processes."
   ]
  },
  {
   "cell_type": "markdown",
   "id": "9a017699-c43e-4c8b-892a-f8c919bce38b",
   "metadata": {},
   "source": [
    "## Learning Objectives"
   ]
  },
  {
   "cell_type": "markdown",
   "id": "54935ad8-760d-41b0-b9f7-777c563719a2",
   "metadata": {},
   "source": [
    "* Provide an overview of Tekton and its associated functionality\n",
    "* Create Tekton tasks and organize them into pipeline\n",
    "* Create a simple Tekton pipeline with one task and add a parameter to it\n",
    "* List the steps to create Tekton triggers and events\n",
    "* Create a Tekton Trigger to cause a pipeline run from external events\n",
    "* Use tasks from the Tekton catalog in a Tekton pipeline\n",
    "* Demonstrate how to apply the pre-built tasks and pipelines available in the Tekton Hub to use in CI/CD pipelines\n",
    "* List the steps to create your own tasks for quality checks and testing\n",
    "* Outline the steps to integrate linting and unit test automation into a CI/CD pipeline\n",
    "* List the steps to find a task to build and deploy an image\n",
    "* Outline the steps to build a Docker image and push it to an image registry\n",
    "* Discuss the procedure to deploy an application using Kubernetes manifests\n",
    "* Use the OpenShift client to deploy the Docker image to an OpenShift cluster"
   ]
  },
  {
   "cell_type": "markdown",
   "id": "ad882228-e23f-4fd2-bba0-707a10c15860",
   "metadata": {},
   "source": [
    "# Module 4: DevOps and GitOps with Openshift"
   ]
  },
  {
   "cell_type": "markdown",
   "id": "31614264-467b-4804-b8ec-ae67e5b45597",
   "metadata": {},
   "source": [
    "Welcome to the **\"DevOps and GitOps with OpenShift\"** module. \n",
    "\n",
    "In this module:\n",
    "* You will understand the DevOps pipeline and its essential elements that automate the software delivery process. \n",
    "* You will explore the components of CI/CD pipelines and their utilities. \n",
    "* Additionally, you will learn about OpenShift Pipelines, which offer benefits such as seamless integration with Kubernetes tools, scalability, and the ability to leverage OpenShift services. \n",
    "* The module will also introduce you to GitOps, an operational framework that combines DevOps best practices with version control and automation.\n",
    "* GitOps enables efficient deployment and management of infrastructure and application configurations by utilizing GitOps as the single source of truth. \n",
    "* You will discover the fundamental principles, benefits, and workflow of GitOps, including visibility, audibility, and easy rollback of changes. * Furthermore, the module will delve into Argo CD, a tool that plays a crucial role in the GitOps ecosystem. \n",
    "* You will explore Argo CD's key concepts and features, including its architecture and how it enables continuous delivery and streamlines application deployment processes in Kubernetes environments.\n",
    "* By the end of this module, you will have a comprehensive understanding of the DevOps pipeline, CI/CD components, OpenShift Pipelines, GitOps principles, benefits, and the critical features of Argo CD. \n",
    "* This knowledge will empower you to automate software delivery, manage configurations, and streamline deployment processes in modern software development environments."
   ]
  },
  {
   "cell_type": "markdown",
   "id": "42e82db3-33ee-498b-a2db-bd2604bf1620",
   "metadata": {},
   "source": [
    "## Learning Objectives"
   ]
  },
  {
   "cell_type": "markdown",
   "id": "3f2bcaaf-0cef-453f-9b66-8b111557eaaf",
   "metadata": {},
   "source": [
    "* Define a DevOps pipeline.\n",
    "* List the main components of a CI/CD pipeline.\n",
    "* Explain the utility of CI/CD and Compliance pipelines.\n",
    "* Explain the role of the Compliance pipeline.\n",
    "* Define OpenShift pipelines.\n",
    "* Identify the benefits of the abstraction layer in OpenShift pipelines.\n",
    "* Describe how OpenShift pipelines relate to Tekton.\n",
    "* Define GitOps and its basic principles.\n",
    "* Explain the benefits and workflow of GitOps.\n",
    "* Describe Argo CD along with its key features and architecture.\n",
    "* Discuss two important GitOps patterns on OpenShift.\n",
    "* Identify the steps for using Argo CD on OpenShift GitOps."
   ]
  },
  {
   "cell_type": "code",
   "execution_count": null,
   "id": "fa67f570-0f93-4d7f-9f39-3f818f150a62",
   "metadata": {},
   "outputs": [],
   "source": []
  }
 ],
 "metadata": {
  "kernelspec": {
   "display_name": "Python 3 (ipykernel)",
   "language": "python",
   "name": "python3"
  },
  "language_info": {
   "codemirror_mode": {
    "name": "ipython",
    "version": 3
   },
   "file_extension": ".py",
   "mimetype": "text/x-python",
   "name": "python",
   "nbconvert_exporter": "python",
   "pygments_lexer": "ipython3",
   "version": "3.12.5"
  }
 },
 "nbformat": 4,
 "nbformat_minor": 5
}
