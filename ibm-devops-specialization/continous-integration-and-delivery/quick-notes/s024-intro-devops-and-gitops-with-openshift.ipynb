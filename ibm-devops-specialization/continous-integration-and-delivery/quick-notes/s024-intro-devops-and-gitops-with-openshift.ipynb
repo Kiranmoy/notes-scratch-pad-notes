{
 "cells": [
  {
   "cell_type": "markdown",
   "id": "cc176517-2c03-42de-a89f-a0d1bb3701e3",
   "metadata": {},
   "source": [
    "Welcome to this module on **DevOps and GitOps with Openshift Pipelines**, which is a pivotal component in the continuous integration and continuous delivery, or CI/CD, landscape.\n",
    "* Openshift pipelines is designed to create, manage, and optimize CI/CD workflows.\n",
    "* You'll start by learning a user-friendly interface, seamlessly integrated into the OpenShift developer environment.\n",
    "* With this interface, you can precisely define, orchestrate, and guide your application's DevOps workflows.\n",
    "\n",
    "In this module, you'll learn **how to construct tangible, real-world pipelines without the necessity of scripting a single line of code**. OpenShift pipelines ingeniously automates the generation of Tekton code, the underlying technology you should already be familiar with, while you work with tasks and pipelines using the user interface.\n",
    "\n",
    "**But what's education without application?** \n",
    "\n",
    "In the lab sessions, you'll unleash your newfound skills as you recreate a pipeline you've written from scratch using Tekton in the previous module. Only this time there's no coding involved.\n",
    "* As you delve into OpenShift pipelines, you're not just exploring CI/CD, you're venturing into the philosophy of GitOps.\n",
    "* This transformative approach leverages the power of version control, notably git, to manage and govern application deployments.\n",
    "* Then there's **Argo CD**, your gateway to operational excellence through GitOps.\n",
    "* Imagine a tool seamlessly synchronizing the applications running in your OpenShift cluster with your desired state from your git repositories.\n",
    "* With Argo CD, you're not just managing deployments, you're orchestrating a collection of infrastructure, configurations, and applications keeping them in constant sync.\n",
    "* This combination of skills equips you to navigate CI/CD, enhance deployment reliability, and streamline operations through DevOps and GitOps practices.\n",
    "\n",
    "Let's get started on this journey together."
   ]
  },
  {
   "cell_type": "code",
   "execution_count": null,
   "id": "41adc820-ae06-43e8-9544-88c08dabbc98",
   "metadata": {},
   "outputs": [],
   "source": []
  }
 ],
 "metadata": {
  "kernelspec": {
   "display_name": "Python 3 (ipykernel)",
   "language": "python",
   "name": "python3"
  },
  "language_info": {
   "codemirror_mode": {
    "name": "ipython",
    "version": 3
   },
   "file_extension": ".py",
   "mimetype": "text/x-python",
   "name": "python",
   "nbconvert_exporter": "python",
   "pygments_lexer": "ipython3",
   "version": "3.12.5"
  }
 },
 "nbformat": 4,
 "nbformat_minor": 5
}
