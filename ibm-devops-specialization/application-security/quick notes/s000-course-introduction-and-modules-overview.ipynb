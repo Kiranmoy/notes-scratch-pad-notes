{
 "cells": [
  {
   "cell_type": "markdown",
   "id": "c2a3fbcc-7c28-42ed-8017-62afe1252fb2",
   "metadata": {},
   "source": [
    "# Course Introduction  "
   ]
  },
  {
   "cell_type": "markdown",
   "id": "27e5cc20-33f2-494a-be30-a30b9434d9df",
   "metadata": {},
   "source": [
    "This course is about application security for developers and DevOps professionals.\n",
    "* We're not going to discuss securing infrastructure, that's what security teams and the operations or SRE teams do.\n",
    "* This course is specifically focused on software engineers and what you need to know to truly embrace the Secure DevOps.\n",
    "\n",
    "Did you know that the most significant security risks and concerns for developers over two decades ago are almost the same concerns today.\n",
    "* Many of the most recent concerns included in the **Open Web Application Security Project (OWASP) top 10 list** were the same as in 2007.\n",
    "* With ever-changing technology and almost incredible computer science and software engineering advancements, software engineers still fail to take the most basic security safety measures to safeguard their applications and close the door to threats and attacks. This is mostly due to poorly implemented security features that could have alerted the team to malicious attempts to break into the system.\n",
    "\n",
    "We need to **start practicing security by design**.\n",
    "\n",
    "This course will help you **understand the common risks and vulnerabilities** that threaten your applications and systems.\n",
    "\n",
    "In this course, \n",
    "* You'll learn about **DevSecOps**, an essential part of development and operations.\n",
    "* You'll learn about proactively **integrating security into your software development process**.\n",
    "* You'll also gain insights into the role of network security using modern TLS in OpenSSL.\n",
    "* You'll learn how mapping security into your development plan will increase your ability to recover from attacks and even secure your systems before an attack occurs.\n",
    "* You'll also learn about **vulnerability scanning and threat modeling** and gain a deeper understanding of threat monitoring.\n",
    "* You'll also **explore security testing and the different tools** and procedures you can use to mitigate the risks and impacts of security threats and vulnerabilities.\n",
    "* In the hands-on labs, you'll practice **analyzing code using static and dynamic analysis tools** and running tests to help you understand the process. \n",
    "* You'll dive into the **OWASP top 10 list which identifies current security vulnerabilities and concerns**.\n",
    "* You'll discover how hackers are exploiting common vulnerabilities in applications and systems.\n",
    "* Then in the labs, you'll get hands-on practice once again, **setting up tools like the vault secrets manager** via both a user interface and programmatically by reading and writing secrets to the vault.\n",
    "* You'll also learn tools that will help you **check and test the security of your code, dependencies, and development environments**.\n",
    "\n",
    "By the end of this course, \n",
    "* You'll be familiar with many of the key security terms and concepts commonly used by security teams.\n",
    "* You'll understand how security risks and vulnerabilities threaten your applications and systems.\n",
    "* You'll learn how to start coding defensively and makes sure that your applications are secure by design.\n",
    "* You'll be prepared to handle these security nightmares so that you can sleep soundly at night."
   ]
  },
  {
   "cell_type": "markdown",
   "id": "c9af1868-725b-4892-b0a4-394bb136940d",
   "metadata": {},
   "source": [
    "# Module 1: Introduction to Security for Application Development"
   ]
  },
  {
   "cell_type": "markdown",
   "id": "27f47adf-3d99-42d6-80f7-6f13348b3849",
   "metadata": {},
   "source": [
    "In this module, \n",
    "* You will identify how security fits into your workflow and gain a working knowledge of security concepts and terminology.\n",
    "* You’ll discover how to design for security in the Software Development Lifecycle (SDLC) and find out about a set of practices known as DevSecOps.\n",
    "* You will also discover the OSI model, identify the necessary OSI layers for developers, and implement security measures on the four layers of application development.\n",
    "* You will gain insights into security patterns and learn how to organize them.\n",
    "* You will describe TLS (Transport Layer Security) and SSL (Secure Sockets Layer), identify how to keep TLS secure in the SDLC, and explore OpenSSL and its purpose.\n",
    "* You will learn the strategies, best practices, and methodologies for getting security early into your code to protect applications against threats and vulnerabilities.\n",
    "* Further, you’ll find out how you can use tools like vulnerability scanners and threat models to mitigate security vulnerabilities.\n",
    "* You’ll also get the opportunity to add key terms like authentication, encryption, and integrity to your security vocabulary.\n",
    "* Finally, you will also perform hands-on labs to encrypt and decrypt files using OpenSSL and scan a network environment with Nmap."
   ]
  },
  {
   "cell_type": "markdown",
   "id": "8af9a669-5970-4c18-882a-5869a0d7ce78",
   "metadata": {},
   "source": [
    "## Learning Objectives"
   ]
  },
  {
   "cell_type": "markdown",
   "id": "7c12e27e-d158-4c69-8c28-2343a97de9f5",
   "metadata": {},
   "source": [
    "* Describe security by design and secure software development lifecycle (SDLC)\n",
    "* Define DevSecOps and list the differences between DevSecOps and DevOps\n",
    "* Explain the OSI Model and identify seven OSI layers\n",
    "* Implement security measures on the four layers of application development\n",
    "* Describe security patterns and steps to organize them\n",
    "* Define TLS and SSL and describe the working of modern TLS\n",
    "* Explain OpenSSL, its purpose, and public key cryptography\n",
    "* Create special and secret keys to encrypt your files and perform decryption of the encrypted files\n",
    "* Assess security in application development, including vulnerability scanning, threat modeling, and threat monitoring\n",
    "* Perform a network scan based on the IP address or domain name"
   ]
  },
  {
   "cell_type": "markdown",
   "id": "10eaf8c1-4b91-4a37-a0da-a3f355d289b2",
   "metadata": {},
   "source": [
    "# Module 2: Security Testing and Mitigation Strategies "
   ]
  },
  {
   "cell_type": "markdown",
   "id": "e14f946f-0dda-4bd7-9185-0987d3e37f20",
   "metadata": {},
   "source": [
    "In this module, \n",
    "* You will learn the key mitigation strategies to secure your application throughout development and production.\n",
    "* You will also discover a range of security testing methods like static analysis, dynamic analysis, vulnerability analysis, software component analysis, and continuous security analysis.\n",
    "* You will explore ways to perform code review and ensure runtime protection for application development.\n",
    "* You will also perform hands-on labs based on static analysis, dynamic analysis, vulnerability scanning, and vulnerability detection."
   ]
  },
  {
   "cell_type": "markdown",
   "id": "3c98b0a6-7b44-4927-ba23-4f35a9f01761",
   "metadata": {},
   "source": [
    "## Learning Objectives"
   ]
  },
  {
   "cell_type": "markdown",
   "id": "56369544-e647-4b93-9d46-724fa75865e4",
   "metadata": {},
   "source": [
    "* Explain security testing and mitigation strategies and identify the five key strategies for mitigation\n",
    "* Interpret security reports from SonarQube after running a static analysis scan\n",
    "* Perform dynamic analysis of your project code using OWASP ZAP and interpret the security report\n",
    "* Implement key analysis in applications, including code review, vulnerability analysis, software component analysis, continuous security analysis, and runtime protection\n",
    "* Demonstrate the use of OWASP’s ZAP to scan a vulnerable website\n",
    "* Perform a vulnerability scan using the Jake tool on a sample web application and evaluate the results\n",
    "* Use the SCA tool to detect vulnerabilities in a project’s components and analyze the tool’s output"
   ]
  },
  {
   "cell_type": "markdown",
   "id": "89d84b07-9efc-42b9-afd5-cbb31c316322",
   "metadata": {},
   "source": [
    "# Module 3: OWASP Application Security Risks"
   ]
  },
  {
   "cell_type": "markdown",
   "id": "d5208be6-6692-486b-86f5-3534ad46d29b",
   "metadata": {},
   "source": [
    "In this module,\n",
    "* You will learn about the Open Web Application Security Project (OWASP) and its Top 10 security concerns.\n",
    "* You’ll learn about application vulnerabilities and discover the top vulnerabilities concerning security experts and professionals.\n",
    "* You will explore SQL injection, cross-site scripting, and storing secrets securely.\n",
    "* You will also investigate software and data integrity failures, discover how to detect these types of vulnerabilities, and examine ways to mitigate their impact.\n",
    "* You will also perform hands-on labs to analyze your code repository using Snyk and use the Vault Python API (hvac) to read, write, and delete key-value secrets in Vault."
   ]
  },
  {
   "cell_type": "markdown",
   "id": "5c9f404c-0186-4d39-afdd-ccc466e45a15",
   "metadata": {},
   "source": [
    "# Learning Objectives"
   ]
  },
  {
   "cell_type": "markdown",
   "id": "0722d762-ec6f-4da6-9e93-27683d093c96",
   "metadata": {},
   "source": [
    "* Describe OWASP and explain the five major steps in developing the OWASP Top 10\n",
    "* Perform a scan and analysis of your code repository using Snyk\n",
    "* Identify four types of SQL injections and how to prevent them\n",
    "* Compare an SQL statement and an SQL injection statement\n",
    "* Use Bandit to scan for vulnerabilities in the Python source code and resolve SQL injection vulnerabilities by correcting the source code\n",
    "* Examine how cross-site scripting (XSS) works in the real world and how to prevent it\n",
    "* Use the Vault Python API (hvac) to read, write, and delete key-value secrets in Vault`"
   ]
  },
  {
   "cell_type": "markdown",
   "id": "f459d30f-0b61-498a-af88-5bd5112b55ea",
   "metadata": {},
   "source": [
    "# Module 4: Security Best Practices"
   ]
  },
  {
   "cell_type": "markdown",
   "id": "226cc20e-1293-4354-bb3e-6cf191b07cee",
   "metadata": {},
   "source": [
    "In this module,\n",
    "* You will learn about coding best practices and software dependencies.\n",
    "* You’ll also explore how to secure a development environment by deciding what to store in a centralized repository and what not to store in GitHub.\n",
    "* You will also perform hands-on labs to create HTTP security headers using flask-talisman and safely store and retrieve secrets using the pass CLI (command-line-interface).\n",
    "* As your final project, you will check your code on GitHub for vulnerabilities in order of severity and fix the vulnerabilities.\n",
    "* You’ll apply the best practices for reducing the risk of vulnerability."
   ]
  },
  {
   "cell_type": "markdown",
   "id": "5309a6b2-7df6-4cbe-97c2-3d92fc04e5ca",
   "metadata": {},
   "source": [
    "# Learning Objectives"
   ]
  },
  {
   "cell_type": "markdown",
   "id": "6c2edf63-8907-488f-b071-11fba98f3d05",
   "metadata": {},
   "source": [
    "* Describe defensive methods of code practices\n",
    "* Create HTTP security headers using flask-talisman\n",
    "* Establish cross-origin resource sharing (CORS) policies using flask-Cors\n",
    "* Explain how to determine software dependencies\n",
    "* Secure your development environment by encrypting secrets like credentials and API keys\n",
    "* Perform secure storage and retrieval of secrets using the pass CLI (command-line interface)\n",
    "* Perform a vulnerability scan on your code\n",
    "* Internalize best practices for reducing the risk of vulnerability\n",
    "* Fix the vulnerabilities in the code"
   ]
  },
  {
   "cell_type": "code",
   "execution_count": null,
   "id": "9305181b-cbc6-4174-9a87-7c2812d5a9e3",
   "metadata": {},
   "outputs": [],
   "source": []
  }
 ],
 "metadata": {
  "kernelspec": {
   "display_name": "Python 3 (ipykernel)",
   "language": "python",
   "name": "python3"
  },
  "language_info": {
   "codemirror_mode": {
    "name": "ipython",
    "version": 3
   },
   "file_extension": ".py",
   "mimetype": "text/x-python",
   "name": "python",
   "nbconvert_exporter": "python",
   "pygments_lexer": "ipython3",
   "version": "3.12.5"
  }
 },
 "nbformat": 4,
 "nbformat_minor": 5
}
