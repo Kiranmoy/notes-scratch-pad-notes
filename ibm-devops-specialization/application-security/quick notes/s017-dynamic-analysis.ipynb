{
 "cells": [
  {
   "cell_type": "markdown",
   "id": "14482f67-72f2-4309-9ada-ae8890eccec8",
   "metadata": {},
   "source": [
    "# What you'll learn"
   ]
  },
  {
   "cell_type": "markdown",
   "id": "b1e2c22e-ae6b-4f50-9f52-2412782e1f3d",
   "metadata": {},
   "source": [
    "After watching this video, you will be able to: \n",
    "* Describe dynamic analysis.\n",
    "* Explain the benefits of using dynamic analysis."
   ]
  },
  {
   "cell_type": "markdown",
   "id": "3e091bd6-9975-4023-bab3-cea86adc7da0",
   "metadata": {},
   "source": [
    "# What is dynamic analysis? "
   ]
  },
  {
   "attachments": {},
   "cell_type": "markdown",
   "id": "dae69bda-7ac9-4803-8b13-4a075296a4a5",
   "metadata": {},
   "source": [
    "* Dynamic analysis is the process of testing and evaluating an application as it is executing.\n",
    "* Dynamic analysis is typically run against fully built applications.\n",
    "* While you would most often perform static analysis in development, you perform dynamic analysis in staging, pre-prod, or even after you deploy the code to production.\n",
    "* Dynamic analysis eliminates the need to artificially create test cases or scenarios and jumps right into real-time situations.\n",
    "* It helps identify vulnerabilities, memory issues, and possible crashes in production."
   ]
  },
  {
   "cell_type": "markdown",
   "id": "0868d3de-7c24-447c-af7d-5552eeafbe56",
   "metadata": {},
   "source": [
    "# Dynamic application security test"
   ]
  },
  {
   "cell_type": "markdown",
   "id": "045a9f42-1c06-4ad1-a77e-07be54255ebd",
   "metadata": {},
   "source": [
    "* Dynamic application security testing (or DAST) evaluates the application from the outside in through the front end.\n",
    "* DAST is not functional testing.\n",
    "* It acts like an attacker.\n",
    "* It simulates attacks to detect potential threats and vulnerabilities.\n",
    "* Because DAST does not have access to the source code, it performs black-box testing, analyzing behaviors of inputs and outputs."
   ]
  },
  {
   "cell_type": "markdown",
   "id": "283ce88d-a2ff-47c1-aa62-f299253c05df",
   "metadata": {},
   "source": [
    "# Benefits of dynamic analysis"
   ]
  },
  {
   "cell_type": "markdown",
   "id": "32d78fb3-ac73-4086-854e-cd9c78c3f9e6",
   "metadata": {},
   "source": [
    "Here are three key benefits of using dynamic analysis.\n",
    "* A dynamic analysis tool crawls an application's interface in a dynamic manner.\n",
    "* It performs tests that provide insights.\n",
    "* It helps flush out faults in dynamic code paths."
   ]
  },
  {
   "cell_type": "markdown",
   "id": "a56e41d1-dd76-47cd-a457-14822305c15f",
   "metadata": {},
   "source": [
    "First, **what is the benefit of crawling an application's interface?**\n",
    "* Using dynamic scanning, the dynamic analysis tool examines the code from the root URL.\n",
    "* With dynamic scanning, you can intentionally try to break into your system.\n",
    "* And you can get the upper hand by identifying breakpoints and vulnerabilities in your code to patch up.\n",
    "* So, that’s one benefit.\n",
    "\n",
    "Next, **a dynamic analysis tool performs tests that provide insights into the code’s behavior**.\n",
    "* The tests show how your application reacts to various inputs.\n",
    "* Inputs can be in the form of an action made by a URL or a form.\n",
    "* Here you need to make sure that the data you are trying to use is not harming your real-time database in any manner, so for safety, use a dummy database for running your tests.\n",
    "* The analysis of the results retrieved from these tests provides you with insights into how the code behaves on the inputs.\n",
    "* These results will tell you if your code is performing the way it is supposed to or show you that it is crashing, throwing errors, or executing differently than it should be.\n",
    "\n",
    "**Using a dynamic analysis tool helps flush out faults in dynamic code paths.**\n",
    "* Dynamic analysis helps in detecting and reporting errors that other tests might have missed in static code paths.\n",
    "* So, dynamic analysis gives you a clear idea about where you need to make changes in the code.\n",
    "* Because the code is being dynamically tested while it is running, dynamic analysis gives you real and accurate results.\n",
    "* It helps you locate and understand the changes that you need to make."
   ]
  },
  {
   "cell_type": "markdown",
   "id": "c20d71a1-d119-4dc5-b48f-12f79bbc622b",
   "metadata": {},
   "source": [
    "# Summary"
   ]
  },
  {
   "cell_type": "markdown",
   "id": "97b4b68e-a1f6-447e-b524-ea37671a3c83",
   "metadata": {},
   "source": [
    "In this video, you learned that: \n",
    "* Dynamic analysis is the process of testing and evaluating an application as it is executing.\n",
    "* With dynamic scanning, you can intentionally try to break into your system and find vulnerabilities.\n",
    "* Dynamic testing shows how your application reacts to various inputs.\n",
    "* Dynamic testing helps you detect faults in dynamic code pathways that other tests may overlook."
   ]
  },
  {
   "cell_type": "code",
   "execution_count": null,
   "id": "69cdad76-23a0-4213-8ce7-80321139c550",
   "metadata": {},
   "outputs": [],
   "source": []
  }
 ],
 "metadata": {
  "kernelspec": {
   "display_name": "Python 3 (ipykernel)",
   "language": "python",
   "name": "python3"
  },
  "language_info": {
   "codemirror_mode": {
    "name": "ipython",
    "version": 3
   },
   "file_extension": ".py",
   "mimetype": "text/x-python",
   "name": "python",
   "nbconvert_exporter": "python",
   "pygments_lexer": "ipython3",
   "version": "3.12.5"
  }
 },
 "nbformat": 4,
 "nbformat_minor": 5
}
