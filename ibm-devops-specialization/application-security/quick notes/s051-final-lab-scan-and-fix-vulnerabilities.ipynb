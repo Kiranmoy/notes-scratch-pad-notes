{
 "cells": [
  {
   "cell_type": "markdown",
   "id": "78a16d4b-6260-496a-9da5-ffc0366a3859",
   "metadata": {},
   "source": [
    "# Final Lab: Scan and Fix Vulnerabilities"
   ]
  },
  {
   "cell_type": "markdown",
   "id": "7115a97c-f2f0-49ec-ae03-d76350a4bcee",
   "metadata": {},
   "source": [
    "**Estimated time needed**: 30 minutes\n",
    "\n",
    "Suppose **Noxss Inc.** has hired you as a cybersecurity specialist. \n",
    "* Their newly recruited developer team created a server application they plan to deploy on the IBM cloud.\n",
    "* But before they do that, they want you to check the code and fix any issues that you may find.\n",
    "* As the newly onboarded cybersecurity specialist, Noxss Inc. trains you to scan and check for vulnerabilities using Snyk.\n",
    "\n",
    "You will check the code on GitHub for vulnerabilities in order of severity and fix the vulnerabilities."
   ]
  },
  {
   "cell_type": "markdown",
   "id": "04bfd293-46e1-49fa-892b-596d11bc62ad",
   "metadata": {},
   "source": [
    "# Performance Criteria"
   ]
  },
  {
   "cell_type": "markdown",
   "id": "b64d6911-7af5-47ce-a86a-9beb2176b627",
   "metadata": {},
   "source": [
    "* Perform a vulnerability scan on your company's code\n",
    "* Fix the vulnerabilities in the code\n",
    "* Answer the questions based on previous fixes"
   ]
  },
  {
   "cell_type": "markdown",
   "id": "6ee45f01-6b5e-4828-9ef5-f920dfc2b167",
   "metadata": {},
   "source": [
    "# Pre-requisites"
   ]
  },
  {
   "cell_type": "markdown",
   "id": "a8569245-d750-462f-aa8b-8a3272f96793",
   "metadata": {},
   "source": [
    "You must have completed the **[practice lab](https://cf-courses-data.s3.us.cloud-object-storage.appdomain.cloud/IBM-CD0267EN-SkillsNetwork/labs/Module5/FinalLab_VulnerabilityCheck.md.html)** on the same subject."
   ]
  },
  {
   "cell_type": "markdown",
   "id": "5b23433e-524d-4b6c-b39c-1ee4272c04b3",
   "metadata": {},
   "source": [
    "# Task"
   ]
  },
  {
   "cell_type": "markdown",
   "id": "db16be39-cbf4-453a-9699-5f99a0c439ec",
   "metadata": {},
   "source": [
    "1. Fork the code from `https://github.com/ibm-developer-skills-network/graphy_server.git`.\n",
    "\n",
    "2. Scan the code for vulnerabilities with Snyk. Please ensure you make a note of the `Critical`, `High`, and `Medium` severity issues. You will need this information later.\n",
    "\n",
    "3. Fix the vulnerabilities as per recommendation.\n",
    "\n",
    "4. Ensure there are no `Critical`, `High`, or `Medium` severity issues in your copy of the repository.\n",
    "\n",
    "5. Once you have accomplished the previous step, you will be ready to answer the questions in the next section."
   ]
  },
  {
   "cell_type": "code",
   "execution_count": null,
   "id": "9ab3502e-ca88-41ce-af51-c6c4bf016ee0",
   "metadata": {},
   "outputs": [],
   "source": []
  }
 ],
 "metadata": {
  "kernelspec": {
   "display_name": "Python 3 (ipykernel)",
   "language": "python",
   "name": "python3"
  },
  "language_info": {
   "codemirror_mode": {
    "name": "ipython",
    "version": 3
   },
   "file_extension": ".py",
   "mimetype": "text/x-python",
   "name": "python",
   "nbconvert_exporter": "python",
   "pygments_lexer": "ipython3",
   "version": "3.12.5"
  }
 },
 "nbformat": 4,
 "nbformat_minor": 5
}
