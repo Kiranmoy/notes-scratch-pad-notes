{
 "cells": [
  {
   "cell_type": "markdown",
   "id": "09915b6e-610f-4730-a1c3-0c4ac4042793",
   "metadata": {},
   "source": [
    "# What you'll learn"
   ]
  },
  {
   "cell_type": "markdown",
   "id": "e8ced9ff-6773-4160-b5fe-650bf4e18ca6",
   "metadata": {},
   "source": [
    "After watching this video, you will be able to: \n",
    "* Describe code practices.\n",
    "* Identify general code practices.\n",
    "* Explain the input validation and scrubbing process."
   ]
  },
  {
   "cell_type": "markdown",
   "id": "b9488c09-ac40-4fc7-8737-fa80d2f8a97c",
   "metadata": {},
   "source": [
    "# What are code practices?"
   ]
  },
  {
   "cell_type": "markdown",
   "id": "8d843e97-ee9f-46f4-9a4e-e712225ffb70",
   "metadata": {},
   "source": [
    "* Code practices are part of the software development process for the development of secure software.\n",
    "* Security is a major concern in the DevOps community because attackers target insecure code in the application layer.\n",
    "* Implementing code practices is an important part of developing secure software.\n",
    "* When implemented early in development, is cost-effective because correcting insecure code later in the software development process is expensive.\n",
    "* Implementing code practices helps mitigate vulnerabilities and attacks."
   ]
  },
  {
   "cell_type": "markdown",
   "id": "25d1af3a-4706-4307-b633-1a497675b735",
   "metadata": {},
   "source": [
    "# General code practices"
   ]
  },
  {
   "cell_type": "markdown",
   "id": "bebb64e1-0d15-4a87-9c61-e9800c9d2281",
   "metadata": {},
   "source": [
    "There are some general code practices you should follow when developing software.\n",
    "* Implement a secure software development lifecycle.\n",
    "* Including security in the development lifecycle is cost-effective and ensures your application is as secure as it can be, right from the start.\n",
    "* Establish secure coding standards.\n",
    "* Following a set of secure coding standards establishes good habits.\n",
    "* Build and use reusable object libraries for efficiency and to reduce risk.\n",
    "* Develop with only tested and approved managed code.\n",
    "* You should implement safe updating by focusing on exposed threats or source code that contains security-critical components.\n",
    "* Attend training courses that focus on secure software development. They can increase your security awareness and strengthen your skills."
   ]
  },
  {
   "cell_type": "markdown",
   "id": "17f80df8-ac2f-4085-9516-466468adb888",
   "metadata": {},
   "source": [
    "# Input Validation"
   ]
  },
  {
   "cell_type": "markdown",
   "id": "ac47d022-03d5-4c55-8ec6-e3b4ffb6d6a8",
   "metadata": {},
   "source": [
    "Validating input means to check (on the server side), that the input provided by the user or attacker is what you expect it to be.\n",
    "\n",
    "**What should you validate?**\n",
    "\n",
    "* Any input data you use that a hacker can manipulate.\n",
    "* Check your input data for: \n",
    "    * Expected data types.\n",
    "    * Data range, and data length.\n",
    "    * Allowed characters against a \"white\" list.\n",
    "* If the input data isn’t the right type, it should be rejected.\n",
    "* Any data coming from untrusted sources should also be validated.\n",
    "* Reduce any additional risk by developing untrusted and hardened systems only."
   ]
  },
  {
   "cell_type": "markdown",
   "id": "8c7c1681-678d-4374-83b5-3bbbb3156e3c",
   "metadata": {},
   "source": [
    "# Input Scrubbing"
   ]
  },
  {
   "cell_type": "markdown",
   "id": "0b94f551-f4e3-4e0d-bc7e-480210517188",
   "metadata": {},
   "source": [
    "* Whitelist validation should always be performed for allowed characters.\n",
    "* Scrubber removes any malicious characters if entered as input data.\n",
    "* Malicious characters may include the following: **`<>>\"'%()&+\\\\'\\\"`** anything that the attacker can use to make your application do something it wasn’t intended to do.\n",
    "* If any of these malicious characters are actually allowed as valid input, you should implement additional controls such as:\n",
    "    * output encoding, \n",
    "    * securing task-specific APIs, and \n",
    "    * accounting for all data input throughout an entire application."
   ]
  },
  {
   "cell_type": "markdown",
   "id": "2eab495e-7d23-4b66-b9cb-262f87f5bec2",
   "metadata": {},
   "source": [
    "# Output encoding"
   ]
  },
  {
   "cell_type": "markdown",
   "id": "c9232075-a7ed-46bf-b8d8-784b7e503115",
   "metadata": {},
   "source": [
    "* Output encoding is the translation of input code to safe output code.\n",
    "* Implement a policy and practice for each type of outbound encoding used.\n",
    "* You should encode all characters unless any are unsafe for the interpreter.\n",
    "* Sanitize all output of untrusted queries such as SQL, XML, and LDAP.\n",
    "* Also, sanitize all untrusted data output to local operating system commands."
   ]
  },
  {
   "cell_type": "markdown",
   "id": "a6561b84-8f15-4fb0-977a-798591878262",
   "metadata": {},
   "source": [
    "# Error handling & logging"
   ]
  },
  {
   "cell_type": "markdown",
   "id": "c0aa42e2-10dd-4f71-82e8-3712d28dbb11",
   "metadata": {},
   "source": [
    "* Improper error handling can expose a variety of security risks for an application.\n",
    "* Error messages containing too much detail provide attackers with valuable clues about potential flaws they can exploit.\n",
    "* The goal should be to:\n",
    "    * provide meaningful error messages to the user, \n",
    "    * provide diagnostic information for troubleshooting, and \n",
    "    * provide no useful information to an attacker.\n",
    "* Use custom error pages and generic messages for error handling and logging.\n",
    "* Release allocated memory when any error conditions occur to avoid corruption.\n",
    "* Implement access restrictions to logs to keep attackers out.\n",
    "* You should also log any types of tampering events and failures such as:\n",
    "    * input,\n",
    "    * authentication attempts, and \n",
    "    * access control."
   ]
  },
  {
   "cell_type": "markdown",
   "id": "098880f3-ec5a-4514-9832-953ade40ddf1",
   "metadata": {},
   "source": [
    "# Summary"
   ]
  },
  {
   "cell_type": "markdown",
   "id": "60a02289-f9d1-48d9-a978-343322d6757f",
   "metadata": {},
   "source": [
    "In this video, you learned that: \n",
    "* Security is a concern in the DevOps community, and attackers target insecure code in the Application layer.\n",
    "* Code practices are part of secure software development that helps mitigate vulnerabilities and attacks.\n",
    "* Including security early in the development process saves money because it’s more costly to fix security issues later in the process.\n",
    "* Using trusted code and developing on trusted, hardened systems reduces risk (or attack surface).\n",
    "* Validate data input and sanitize the output of untrusted queries.\n",
    "* Provide meaningful error messages for users, diagnostic logging for troubleshooting, and make sure your messaging provides nothing useful to attackers.\n",
    "* Training courses focusing on secure software development can help raise awareness and strengthen skills.\n"
   ]
  },
  {
   "cell_type": "markdown",
   "id": "130ac5a4-e80f-4c18-bcd4-18bcc69913bd",
   "metadata": {},
   "source": []
  }
 ],
 "metadata": {
  "kernelspec": {
   "display_name": "Python 3 (ipykernel)",
   "language": "python",
   "name": "python3"
  },
  "language_info": {
   "codemirror_mode": {
    "name": "ipython",
    "version": 3
   },
   "file_extension": ".py",
   "mimetype": "text/x-python",
   "name": "python",
   "nbconvert_exporter": "python",
   "pygments_lexer": "ipython3",
   "version": "3.12.5"
  }
 },
 "nbformat": 4,
 "nbformat_minor": 5
}
