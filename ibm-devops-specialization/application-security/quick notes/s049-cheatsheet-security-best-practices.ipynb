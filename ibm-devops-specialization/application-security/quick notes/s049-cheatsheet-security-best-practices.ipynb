{
 "cells": [
  {
   "cell_type": "markdown",
   "id": "b6b2c4e3-67a5-43e8-b6a3-e0a6378e5dba",
   "metadata": {},
   "source": [
    "# cat"
   ]
  },
  {
   "cell_type": "markdown",
   "id": "97372b23-2763-4795-9138-ea6bcfc60409",
   "metadata": {},
   "source": [
    "Reads data from the file and gives its content as output. It helps to create, view, and concatenate files.\n",
    "\n",
    "**Example**:\n",
    "```\n",
    "cat filename\n",
    "cat file1 file2 file3 ...\n",
    "```"
   ]
  },
  {
   "cell_type": "markdown",
   "id": "3599ac92-7e9a-4874-b696-08b99227dfd8",
   "metadata": {},
   "source": [
    "# cd"
   ]
  },
  {
   "cell_type": "markdown",
   "id": "c239375c-c1d7-40b4-bf90-2e9dddda3aa5",
   "metadata": {},
   "source": [
    "Used to move efficiently from your system's existing working directory to different directories.\t\n",
    "```\n",
    "cd [directory path]\n",
    "```"
   ]
  },
  {
   "cell_type": "markdown",
   "id": "1327bc4a-2187-4a28-bf5e-681b411c1906",
   "metadata": {},
   "source": [
    "# flask run"
   ]
  },
  {
   "cell_type": "markdown",
   "id": "67fbd219-1547-4526-9fed-d2e8fa04b302",
   "metadata": {},
   "source": [
    "* Can do more than just start the development server.\n",
    "* By enabling debug mode, the server will automatically reload if code changes and will show an interactive debugger in the browser if an error occurs during a request.\n",
    "* The debugger allows the execution of arbitrary Python code from the browser.\n",
    "\n",
    "**Example**:\n",
    "```\n",
    "flask run -debug \n",
    "flask run -debugger #To start your Flask application with debug mode enabled\n",
    "```"
   ]
  },
  {
   "cell_type": "markdown",
   "id": "e7f2757c-6280-45a8-b610-477b4258c43e",
   "metadata": {},
   "source": [
    "# flask-talisman"
   ]
  },
  {
   "cell_type": "markdown",
   "id": "e73ef07b-1573-4cf5-84ce-40f660cd5834",
   "metadata": {},
   "source": [
    "* Talisman is a small Flask extension that handles setting HTTP headers that can help protect against a few common web application security issues.\n",
    "\n",
    "**Example**:\n",
    "```\n",
    "pip install flask-talisman\n",
    "from flask import Flask\n",
    "from flask_talisman import Talisman\n",
    "app = Flask(__name__) \n",
    "# Configure the security policies\n",
    "talisman = Talisman(app)\n",
    "# ... Your other Flask app code ...\n",
    "\n",
    "```"
   ]
  },
  {
   "cell_type": "markdown",
   "id": "57b9515a-a1c9-4c39-a130-6de2d9d0a7f4",
   "metadata": {},
   "source": [
    "# git clone"
   ]
  },
  {
   "cell_type": "markdown",
   "id": "95bf3c2f-d86d-4997-9c0e-7fd4a119dac1",
   "metadata": {},
   "source": [
    "You can create a copy of a specific repository or branch within a repository.\n",
    "\n",
    "**Example**:\n",
    "```\n",
    "git clone REPOSITORY_URL [DESTINATION_DIRECTORY]\n",
    "```"
   ]
  },
  {
   "cell_type": "markdown",
   "id": "d4726621-174c-4a4d-98e0-a10a0bd99d10",
   "metadata": {},
   "source": [
    "# gpg --full-generate-key"
   ]
  },
  {
   "cell_type": "markdown",
   "id": "d6ca45c6-04d0-4811-8be8-1a91a8607355",
   "metadata": {},
   "source": [
    "Generates a new GPG key to use for signing commits and tags.\n",
    "\n",
    "**Example**:\n",
    "```\n",
    "gpg --full-generate-key\n",
    "```"
   ]
  },
  {
   "cell_type": "markdown",
   "id": "79fe0af7-0831-4e5a-92ff-a56314714f72",
   "metadata": {},
   "source": [
    "# gpg --list-secret-keys"
   ]
  },
  {
   "cell_type": "markdown",
   "id": "ea8b6fc0-2ffb-4473-9db8-1eb1940daa85",
   "metadata": {},
   "source": [
    "* Lists the long form of the GPG keys for which you have both a public and private key.\n",
    "* A private key is required for signing commits or tags.\n",
    "\n",
    "**Example**:\n",
    "```\n",
    "gpg --list-keys \n",
    "```"
   ]
  },
  {
   "cell_type": "markdown",
   "id": "f3f36dd9-193d-4fb6-9fd6-c354a3fd6bed",
   "metadata": {},
   "source": [
    "# grep"
   ]
  },
  {
   "cell_type": "markdown",
   "id": "9b4ebd7a-6dfb-4123-9e10-cd55aa34a770",
   "metadata": {},
   "source": [
    "Searches for the pattern specified by the pattern parameter and writes each matching line to standard output.\n",
    "\n",
    "**Syntax**: `grep [options] pattern [file ...]`\n",
    "\n",
    "**Example**:\n",
    "```\n",
    " grep \"searchword\" filename\n",
    " grep -i \"pattern\" filename #-i: Perform a case-insensitive search.\n",
    " grep \"pattern\" file1 file2 file3 #pattern: The text pattern you want to search for.\n",
    "```"
   ]
  },
  {
   "cell_type": "markdown",
   "id": "1e4c174e-93a5-4b70-ab85-56cb5e55060d",
   "metadata": {},
   "source": [
    "# npm start"
   ]
  },
  {
   "cell_type": "markdown",
   "id": "f29613e4-0202-4ccd-a2a4-73c56f63e34c",
   "metadata": {},
   "source": [
    "* Runs a predefined command specified in the **`start`** property of a package's **`scripts`** object.\n",
    "* If the **`scripts`** object does not define a **`start`** property, npm will run the node server.\n",
    "\n",
    "**Syntax**: `npm start  #Runs in Terminal`\n",
    "\n",
    "**Example for Node.js**:\n",
    "```\n",
    " {\n",
    "    \"name\": \"my-node-app,ࠠ   \"version\": \"1.0.0\",\n",
    "    \"scripts\": {\n",
    "   \"start\": \"node server.js\"\n",
    " }\n",
    "}\n",
    "```"
   ]
  },
  {
   "cell_type": "markdown",
   "id": "885a7ae0-f3dd-4fc9-96dd-bb13b439ae7a",
   "metadata": {},
   "source": [
    "# pass"
   ]
  },
  {
   "cell_type": "markdown",
   "id": "20c15da4-b820-42fb-8544-89a3746c1105",
   "metadata": {},
   "source": [
    "With the pass, each password lives inside of a gpg encrypted file whose filename is the title of the website or resource that requires the password.\n",
    "\n",
    "**Example**:\n",
    "```\n",
    "pass\n",
    "```"
   ]
  },
  {
   "cell_type": "markdown",
   "id": "5dd6211c-d0f5-40e4-9a87-63e39c2fbb34",
   "metadata": {},
   "source": [
    "# pass init"
   ]
  },
  {
   "cell_type": "markdown",
   "id": "01d0eb2b-cd1a-41be-ab85-f3bd9d128975",
   "metadata": {},
   "source": [
    "* Initiate your pass directory (`.password-store`) within your home folder.\n",
    "* Pass will store your passwords here.\n",
    "\n",
    "**Example**:\n",
    "```\n",
    "  pass init\t\t\n",
    "```\n",
    "\n",
    "You need to set up GPG and initialize the password store."
   ]
  },
  {
   "cell_type": "markdown",
   "id": "bb51b6e7-ab74-4ea7-b726-e18461482611",
   "metadata": {},
   "source": [
    "# pass insert"
   ]
  },
  {
   "cell_type": "markdown",
   "id": "f711c899-efee-46a0-90c1-82f136742298",
   "metadata": {},
   "source": [
    "* Passwords are added to the store using this command.\n",
    "* This accepts the name of the service as an argument and interactively prompts you to enter the password.\n",
    "\n",
    "**Storing Passwords**:\n",
    "```\n",
    "pass insert example.com\n",
    "```\n",
    "\n",
    "You use the pass insert command followed by the title(filename) of the password and the password itself."
   ]
  },
  {
   "cell_type": "markdown",
   "id": "2206322b-8b12-46d1-bb98-acea4d6a9b2d",
   "metadata": {},
   "source": [
    "# pass show"
   ]
  },
  {
   "cell_type": "markdown",
   "id": "3eafed77-acad-429a-a882-d49f8c9e76e8",
   "metadata": {},
   "source": [
    "Fetches a password from the store/directory.\n",
    "\n",
    "**Syntax**:\n",
    "```\n",
    "pass show example.com\n",
    "```\n",
    "\n",
    "For example, if you have a password stored for a website named `example.com` running pass show `example.com` will show the decrypted password in the terminal."
   ]
  },
  {
   "cell_type": "markdown",
   "id": "57b2ba81-16be-463f-ad00-0806674e59a6",
   "metadata": {},
   "source": [
    "# pip"
   ]
  },
  {
   "cell_type": "markdown",
   "id": "f6933da5-e43f-4a4f-a631-ef8954de0b35",
   "metadata": {},
   "source": [
    "To ensure that requests will function, the **`pip`** program searches for the package in the **Python Package Index (PyPI)**, resolves any dependencies, and installs everything in your current Python environment.\n",
    "\n",
    "**Example**:\n",
    "```\n",
    "pip list\n",
    "```"
   ]
  },
  {
   "cell_type": "markdown",
   "id": "76264c31-aa5d-4a15-bb71-9b30344a5386",
   "metadata": {},
   "source": [
    "# pip install"
   ]
  },
  {
   "cell_type": "markdown",
   "id": "810fe085-e150-4c25-a6ea-1538098ff9fc",
   "metadata": {},
   "source": [
    "The **`pip install <package>`** command looks for the latest version of the package and installs it.\n",
    "\n",
    "**Example**:\n",
    "```\n",
    "pip install example_package         \n",
    "```"
   ]
  },
  {
   "cell_type": "markdown",
   "id": "537fe7e5-0519-4c0a-a30a-5b81da563712",
   "metadata": {},
   "source": [
    "# rm"
   ]
  },
  {
   "cell_type": "markdown",
   "id": "183e11a7-a4e2-450c-9cac-b93c89bce465",
   "metadata": {},
   "source": [
    "Used to remove objects such as files, directories, symbolic links, and so on from the file system.\n",
    "\n",
    "**Example**:\n",
    "```\n",
    "rm filename\n",
    "rm file1 file2 file3\n",
    "```"
   ]
  },
  {
   "cell_type": "markdown",
   "id": "e63cc692-92c2-485f-95c2-e210ceb70483",
   "metadata": {},
   "source": [
    "# sudo apt"
   ]
  },
  {
   "cell_type": "markdown",
   "id": "dfc947e1-780f-4fca-8887-aca5961f8a18",
   "metadata": {},
   "source": [
    "**`sudo apt-get update`** and **`sudo apt-get upgrade`** are two commands you can use to keep all of your packages up to date in Debian or a Debian-based Linux distribution.\n",
    "\n",
    "**Example**:\n",
    "```\n",
    "sudo apt update\n",
    "or\n",
    "sudo apt-get update\n",
    "or\n",
    "sudo apt-get update && sudo apt-get upgrade\n",
    "```"
   ]
  },
  {
   "cell_type": "markdown",
   "id": "6551c48e-e23b-44d6-8d86-2de11c74494e",
   "metadata": {},
   "source": [
    "# wget"
   ]
  },
  {
   "cell_type": "markdown",
   "id": "1786b67d-fe78-4838-bfb8-3c87f3c8b496",
   "metadata": {},
   "source": [
    "* Stands for **web get**.\n",
    "* The **`wget`** is a free non-interactive file downloader command.\n",
    "* Non-interactive means it can work in the background when the user is not logged in.\n",
    "\n",
    "**Example**:\n",
    "```\n",
    "wget 'https://www.example.com/somefile.txt'\n",
    "```"
   ]
  },
  {
   "cell_type": "code",
   "execution_count": null,
   "id": "743fc5bc-a7d2-42e9-a4c8-a581d63672d6",
   "metadata": {},
   "outputs": [],
   "source": []
  }
 ],
 "metadata": {
  "kernelspec": {
   "display_name": "Python 3 (ipykernel)",
   "language": "python",
   "name": "python3"
  },
  "language_info": {
   "codemirror_mode": {
    "name": "ipython",
    "version": 3
   },
   "file_extension": ".py",
   "mimetype": "text/x-python",
   "name": "python",
   "nbconvert_exporter": "python",
   "pygments_lexer": "ipython3",
   "version": "3.12.5"
  }
 },
 "nbformat": 4,
 "nbformat_minor": 5
}
