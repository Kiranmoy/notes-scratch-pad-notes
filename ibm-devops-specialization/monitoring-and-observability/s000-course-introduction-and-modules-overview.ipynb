{
 "cells": [
  {
   "attachments": {},
   "cell_type": "markdown",
   "id": "d5a47a12-452d-4a30-b018-cac9a267467d",
   "metadata": {},
   "source": [
    "This course will help you understand the proper way to implement logging and perform monitoring for your application.\n",
    "* You'll be introduced to application monitoring and why it matters to you.\n",
    "* Learn the importance of knowing what to monitor to make sure their application is performing correctly.\n",
    "* You'll become familiar with the four golden signals of monitoring and how they can help you mitigate failures and security risks and even stop them before they occur.\n",
    "* You'll learn more about monitoring and visualization tools like **Prometheus** and **Grafana**.\n",
    "* You'll also explore how these tools can help you organize and understand your monitoring data so that you can use metrics to develop charts and graphs and timelines and many other visuals to show real-time data to help your team plan, execute, and reach its development goals.\n",
    "* You'll practice installing and using these tools to analyze an application and run tests to help you understand the process.\n",
    "* You'll explore application logging with **Mezmo**, formerly **LogDNA**, to gain insights into logging implementations.\n",
    "* Learn more about why logging is key to helping you understand:\n",
    "    * your application's vulnerabilities, \n",
    "    * its dependencies, \n",
    "    * system events, and \n",
    "    * how well it's performing.\n",
    "* You'll gain insights into concepts related to observability and the three pillars of observability, the types of sampling.\n",
    "* You'll also experience hands-on observability with **IBM Instana**.\n",
    "* Finally, you'll explore the **OpenTelemetry framework** and the best practices for implementing tracing in application development.\n",
    "\n",
    "By the end of this course, you'll understand how monitoring and observability can help you make sure that your applications are safe, secure, and operating properly."
   ]
  },
  {
   "cell_type": "markdown",
   "id": "30e31926-8b76-41e4-b852-2e0c445a26e9",
   "metadata": {},
   "source": [
    "# Module 1:  Introduction to monitoring for applications"
   ]
  },
  {
   "cell_type": "markdown",
   "id": "69290359-7215-4110-8f41-1f2d3c9d1ded",
   "metadata": {},
   "source": [
    "* You will be introduced to application monitoring, common terms used in monitoring, and why monitoring matters to developers. \n",
    "* You'll also learn about the types of monitoring that give you visibility into app performance and connected information technology (IT) systems. \n",
    "* You'll become familiar with the **four Golden Signals of Monitoring** and learn to use the Golden Signals to improve your monitoring systems.\n",
    "* Then, you will explore the differences between the **Monitoring and Evaluation processes**. \n",
    "* You'll learn that monitoring is a routine, ongoing process, while evaluation is a long-term process. \n",
    "* You'll learn more about the components of monitoring, including metrics, observability, and alerts. \n",
    "* You'll also explore the importance of tracking host-based, application, network connectivity, and server pool metrics.\n",
    "* Finally, you'll learn about the need for application monitoring and its importance.\n",
    "\n",
    "**Learning Objectives**\n",
    "* Define application monitoring\n",
    "* Discuss the importance of application monitoring\n",
    "* Identify the different types of monitoring\n",
    "* Discuss the benefits of different types of monitoring\n",
    "* Describe the four Golden Signals of Monitoring\n",
    "* Explain the importance of Golden Signals\n",
    "* Explain the differences between Monitoring and Evaluation\n",
    "* Discuss the importance of the different monitoring and evaluation processes\n",
    "* Describe the components of monitoring systems\n",
    "* Identify important qualities of a monitoring system\n",
    "* Identify important metrics to track in monitoring systems\n",
    "* Describe factors that determine which metrics you should monitor\n",
    "* Explain the need for application monitoring\n",
    "* Describe the important elements of application monitoring"
   ]
  },
  {
   "cell_type": "markdown",
   "id": "251cb42f-d1ac-48ce-9206-c0f7b0956220",
   "metadata": {},
   "source": [
    "# Module 2: Monitoring systems and techniques"
   ]
  },
  {
   "cell_type": "markdown",
   "id": "1312ef70-52cf-4c8a-b7cd-bd96f53ef0a2",
   "metadata": {},
   "source": [
    "* You will learn about **synthetic monitoring** and its importance. \n",
    "* You’ll also explore the synthetic monitoring tools, their uses, as well as features. \n",
    "* You will gain insights into how application monitoring allows developers to observe applications.\n",
    "* How monitoring can provide valuable insights into application performance. \n",
    "* You’ll learn about Prometheus and the benefits of using an analytics tool. \n",
    "* You’ll also learn about **Grafana**, which is typically used with **Prometheus**. \n",
    "* You’ll explore how a visualization tool, like **Grafana**, can organize all of your monitoring data. \n",
    "* Additionally, you’ll discover how the right visualization tool can help your organization and that visualization includes many options, like charts, graphs, and timelines. \n",
    "* Finally, you’ll learn about alerting, the responsive part of a monitoring system.\n",
    "* You’ll learn about the metric, log, activity log, and smart detection alerts.\n",
    "\n",
    "**Learning Objectives**\n",
    "* Use Prometheus to monitor sample servers simulated with Node Exporter\n",
    "* Deploy Grafana as a visualization tool and dashboard for Prometheus\n",
    "* Define synthetic monitoring\n",
    "* Discuss the importance of synthetic monitoring\n",
    "* Describe the use of synthetic monitoring tools\n",
    "* Discuss the features of synthetic monitoring tools\n",
    "* Describe the significance of application monitoring\n",
    "* Examine important factors while choosing the right tool for application monitoring.\n",
    "* Describe what Prometheus is used for\n",
    "* Summarize the benefits and features of Prometheus\n",
    "* Identify Grafana and its uses\n",
    "* Summarize the benefits of using Grafana\n",
    "* Define visualization as it relates to monitoring\n",
    "* Discuss the importance of using visualization in monitoring\n",
    "* Define alerting and alerting concepts\n",
    "* Explain the different types of alerts"
   ]
  },
  {
   "cell_type": "markdown",
   "id": "f67e8b87-f050-4581-826a-46ea288546fb",
   "metadata": {},
   "source": [
    "# Module 3: Methodologies and Tools in Logging"
   ]
  },
  {
   "cell_type": "markdown",
   "id": "66266d80-e70e-4f07-a8cf-00e436fe3afe",
   "metadata": {},
   "source": [
    "* You will explore the concept of application logging and its importance. \n",
    "* You will discover the benefits of using log monitoring tools and their features. \n",
    "* Further, you will be introduced to distributed logging and tracing techniques. \n",
    "* You’ll also learn about the key concepts in distributed tracing and the steps to implement distributed logging. \n",
    "* You will explore how to implement logging and the different types of logs. \n",
    "* You will gain insight into formatting, parsing, and retention of logs. \n",
    "* Further, you will identify the major reasons to store log data. \n",
    "* You will explore the analytical dimensions that suggest how long the retention period for log data should be. \n",
    "* You will also learn about a few best practices for storing logs. \n",
    "* Further, you will explore Mezmo, its use cases, and its features. \n",
    "* Finally, you will be introduced to working with Mezmo and the methods for ingesting log data on the Mezmo platform.\n",
    "\n",
    "**Learning Objectives**\n",
    "* Use CloudVyzor LogPad (Log viewer and analyzer) to interpret log files generated by various systems, servers, or applications\n",
    "* Describe Mezmo and its features\n",
    "* Demonstrate working with Mezmo on the platform\n",
    "* Demonstrate methods for ingesting log data\n",
    "* Demonstrate how to parse a string, timestamp, and number using Mezmo\n",
    "* Define logging\n",
    "* Explain how to implement logging\n",
    "* Describe various logging tools\n",
    "* Explore distributed logging in applications\n",
    "* Explain the process of logging\n",
    "* Describe how to format and structure logs\n",
    "* Explain the concept and steps of parsing logs\n",
    "* Identify the major reasons to store log data\n",
    "* Recognize the best practices for storing logs\n",
    "* Explain the different types of application logs"
   ]
  },
  {
   "cell_type": "markdown",
   "id": "2bf84912-7ead-49ec-b568-16b5ca5f598a",
   "metadata": {},
   "source": [
    "# Module 4: Observability and Concepts"
   ]
  },
  {
   "cell_type": "markdown",
   "id": "87823947-6f38-4142-9cb9-ccb0a1ce964f",
   "metadata": {},
   "source": [
    "* You will learn about observability, its benefits, and the three pillars of observability. \n",
    "* You’ll explore the concept of cloud native observability, its tools, and the pillars of cloud enterprise observability.\n",
    "* Further, you will be introduced to the concept of sampling in logging and its advantages and disadvantages and also learn about Instana and its use cases. \n",
    "* You will gain insights into Telemetry and explain its importance and benefits. \n",
    "* You will discover the working of telemetry and the steps to implement it in application development. \n",
    "* You will also differentiate between distributed tracing and telemetry while learning about popular telemetry and distributed tracing tools. \n",
    "* You will explore why tracing for container applications is required and the best practices for implementing tracing in application development.\n",
    "\n",
    "**Learning Objectives**\n",
    "* Implement OpenTelemetry tracing in Kubernetes and maximize the efficiency of Kubernetes\n",
    "* Perform automatic instrumentation using OpenTelemetry libraries\n",
    "* Create a Python virtual environment\n",
    "* Analyze the performance of the preconfigured applications and infrastructure components\n",
    "* Use Play with Instana sandbox to explore the IBM Instana Observability solution\n",
    "* Describe observability\n",
    "* Explore the benefits of observability\n",
    "* Describe the three pillars of observability\n",
    "* List the advantages of the three pillars of observability\n",
    "* Explain the concept of cloud native observability\n",
    "* Describe the significance of cloud native observability tools\n",
    "* Explore popular cloud native observability tools\n",
    "* Explain the concept of sampling in logging\n",
    "* Explain Instana and its uses\n",
    "* Differentiate between distributed tracing and telemetry\n",
    "* List popular telemetry and distributed tracing tools\n",
    "* Describe automated instrumentation\n",
    "* Explain why tracing for container applications is required\n",
    "* List the steps to implement tracing for container-based applications\n",
    "* Discuss the best practices for implementing tracing in application development"
   ]
  },
  {
   "cell_type": "markdown",
   "id": "6da7942c-d463-4b2f-9415-a96c26c5e7b9",
   "metadata": {},
   "source": [
    "# Module 5: Final Project & Assessment"
   ]
  },
  {
   "cell_type": "markdown",
   "id": "5954f35c-11c7-4a7e-b93c-1f915424abcf",
   "metadata": {},
   "source": [
    "* You’ll complete two practice projects where you'll be able to apply monitoring and observability skills using applicable tools. \n",
    "* In the first part, you will create and set up an Instana account to explore the credentials for application and infrastructure monitoring. \n",
    "* You will also get the opportunity to create an Instana dashboard and a website and save their credentials for future use. \n",
    "* In the next part, you will explore Instana to monitor an application named Robotshop using Docker. \n",
    "* You will delve into the process of connecting the Robotshop application with Instana for efficient monitoring and analysis. \n",
    "* Using Docker commands in the terminal, you will establish a seamless connection between the Instana dashboard and the Robotshop application. \n",
    "* This hands-on practice project will equip you with the knowledge and skills to monitor your application's performance effectively and make data-driven decisions to optimize its efficiency.\n",
    "\n",
    "**Learning Objectives**\n",
    "* Create and set up an Instana account\n",
    "* Explore the credentials for application and infrastructure monitoring\n",
    "* Create an Instana dashboard and website and save their credentials for further use\n",
    "* Connect Robotshop Application to Instana via Docker\n",
    "* Explore Robotshop Application on Instana\n",
    "* Perform load generation and verification on Instana\n",
    "* Construct Widgets and Alerts on Instana Dashboard"
   ]
  },
  {
   "cell_type": "code",
   "execution_count": null,
   "id": "1f0b108c-8895-4ac1-aaff-adc3fc262514",
   "metadata": {},
   "outputs": [],
   "source": []
  }
 ],
 "metadata": {
  "kernelspec": {
   "display_name": "Python 3 (ipykernel)",
   "language": "python",
   "name": "python3"
  },
  "language_info": {
   "codemirror_mode": {
    "name": "ipython",
    "version": 3
   },
   "file_extension": ".py",
   "mimetype": "text/x-python",
   "name": "python",
   "nbconvert_exporter": "python",
   "pygments_lexer": "ipython3",
   "version": "3.12.5"
  }
 },
 "nbformat": 4,
 "nbformat_minor": 5
}
